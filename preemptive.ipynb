{
 "cells": [
  {
   "cell_type": "markdown",
   "metadata": {},
   "source": [
    "## Job Generation"
   ]
  },
  {
   "cell_type": "code",
   "execution_count": 32,
   "metadata": {},
   "outputs": [],
   "source": [
    "import numpy as np\n",
    "import scipy"
   ]
  },
  {
   "cell_type": "code",
   "execution_count": 33,
   "metadata": {},
   "outputs": [],
   "source": [
    "jobsArray = []\n",
    "\n",
    "class Job:\n",
    "    def __init__(self, arrival_time, service_time, priority):\n",
    "        self.arrival_time = arrival_time\n",
    "        self.service_time = service_time\n",
    "        self.priority = priority\n",
    "        self.pre_waiting_time = None\n",
    "        self.isJobDone = False\n",
    "        self.service_left = service_time\n",
    "        self.service_start_time = None\n",
    "        self.service_end_time = None\n",
    "        self.latency_due_to_preemption = None\n",
    "        \n",
    "\n",
    "def generate_exponential_xi(n, lmbda):\n",
    "    y = np.random.uniform(0, 1, n)\n",
    "    x = [-np.log(1 - y[i]) / lmbda for i in range(len(y))]\n",
    "    return x\n",
    "\n",
    "def generate_si_sigma_xi(n):\n",
    "    n_sorted = sorted(n)\n",
    "    si_sigma_xi = []\n",
    "    for i in range(len(n_sorted)):\n",
    "        si_sigma_xi.append(sum(n_sorted[:i+1]))\n",
    "    return si_sigma_xi\n",
    "\n",
    "def generate_sizes(si_sigma_xi, mu):\n",
    "    sizes = generate_exponential_xi(len(si_sigma_xi), mu)\n",
    "    jobs = []\n",
    "    for i in range(len(si_sigma_xi)):\n",
    "        jobs.append(Job(si_sigma_xi[i], sizes[i], None))\n",
    "    return jobs\n",
    "\n",
    "def assign_priority(jobsArray, number_of_queues, average_service_time):\n",
    "    bin_size = 2 * average_service_time / number_of_queues\n",
    "    for job in jobsArray:\n",
    "        priority = int(job.service_time / bin_size)\n",
    "        if priority >= number_of_queues:\n",
    "            priority = number_of_queues - 1\n",
    "        job.priority = priority\n",
    "    return jobsArray\n",
    "\n",
    "def areJobsLeft(jobsArray):\n",
    "    for job in jobsArray:\n",
    "        if job.isJobDone == False:   \n",
    "            return True\n",
    "    return False\n",
    "\n",
    "def getHighestPriorityJob(jobsArray,global_clock):\n",
    "    index = -1\n",
    "    priority = 100000\n",
    "    for i, job in enumerate(jobsArray):\n",
    "        if job.priority <= priority and global_clock >= job.arrival_time and job.isJobDone == False:\n",
    "            priority = job.priority\n",
    "            index = i \n",
    "            \n",
    "    return index\n",
    "\n",
    "def getNextJobArrival(jobsArray):\n",
    "    index = -1\n",
    "    for i, job in enumerate(jobsArray):\n",
    "        if job.isJobDone == False:\n",
    "            return i \n",
    "            \n",
    "def simulate_queue(jobsArray,numJobs):\n",
    "    global_clock = 0\n",
    "    numJobsdone = 0\n",
    "    time_slice = 2\n",
    "    while numJobsdone != numJobs:\n",
    "        \n",
    "        highest_priority_job_index = getHighestPriorityJob(jobsArray,global_clock)\n",
    "        \n",
    "        if highest_priority_job_index == -1:\n",
    "            index =  getNextJobArrival(jobsArray)\n",
    "            global_clock = jobsArray[index].arrival_time\n",
    "            highest_priority_job_index = index\n",
    "\n",
    "        currJob = jobsArray[highest_priority_job_index]  \n",
    "        if currJob.service_start_time == None:\n",
    "            jobsArray[highest_priority_job_index].service_start_time = global_clock\n",
    "            jobsArray[highest_priority_job_index].pre_waiting_time = global_clock - currJob.arrival_time\n",
    "        \n",
    "        if currJob.service_left > time_slice:\n",
    "            global_clock += time_slice\n",
    "            jobsArray[highest_priority_job_index].service_left -= time_slice\n",
    "        else:\n",
    "            global_clock += currJob.service_left\n",
    "            jobsArray[highest_priority_job_index].service_left = 0\n",
    "            jobsArray[highest_priority_job_index].isJobDone = True\n",
    "            numJobsdone += 1\n",
    "            jobsArray[highest_priority_job_index].service_end_time = global_clock \n"
   ]
  },
  {
   "cell_type": "markdown",
   "metadata": {},
   "source": [
    "## Queuing parameters"
   ]
  },
  {
   "cell_type": "code",
   "execution_count": 34,
   "metadata": {},
   "outputs": [
    {
     "name": "stdout",
     "output_type": "stream",
     "text": [
      "Counts per priority: [6, 0, 1, 3]\n"
     ]
    }
   ],
   "source": [
    "# number of jobs\n",
    "n = 10\n",
    "number_of_queues = 4\n",
    "lmbda = 0.1\n",
    "mu = 0.2\n",
    "\n",
    "xi = generate_exponential_xi(n, lmbda)\n",
    "si_sigma_xi = generate_si_sigma_xi(xi)\n",
    "\n",
    "jobsArray = generate_sizes(si_sigma_xi, mu)\n",
    "\n",
    "jobsArray = assign_priority(jobsArray, number_of_queues, 1/mu)\n",
    "    \n",
    "# Count number of jobs in each queue\n",
    "count = [0] * number_of_queues\n",
    "for job in jobsArray:\n",
    "    count[job.priority] += 1\n",
    "print(\"Counts per priority:\", count)\n",
    "\n",
    "# Simulate the queue with the given arrival times and sizes using sjf\n",
    "simulate_queue(jobsArray,n)\n"
   ]
  },
  {
   "cell_type": "code",
   "execution_count": 35,
   "metadata": {},
   "outputs": [
    {
     "name": "stdout",
     "output_type": "stream",
     "text": [
      "Jobs:\n",
      "Arrival Time: 2.950461321107108 Service Time: 1.5214333166461629 Priority: 0 Waiting Time: 0.0\n",
      "Arrival Time: 6.278466584910637 Service Time: 21.480144535086765 Priority: 3 Waiting Time: 0.0\n",
      "Arrival Time: 10.026395847913316 Service Time: 0.8613032448867904 Priority: 0 Waiting Time: 0.25207073699732163\n",
      "Arrival Time: 14.975535018614284 Service Time: 0.684523401355611 Priority: 0 Waiting Time: 0.1642348111831442\n",
      "Arrival Time: 21.26541375941425 Service Time: 5.581103573930267 Priority: 2 Waiting Time: 0.5588794717387877\n",
      "Arrival Time: 27.651956826020758 Service Time: 14.461843710741475 Priority: 3 Waiting Time: 1.7534399790625486\n",
      "Arrival Time: 40.322001392541665 Service Time: 0.5403653611911098 Priority: 0 Waiting Time: 1.0833954125416412\n",
      "Arrival Time: 56.7790677670928 Service Time: 18.42237654563464 Priority: 3 Waiting Time: 0.0\n",
      "Arrival Time: 76.58778810197333 Service Time: 2.024698502964282 Priority: 0 Waiting Time: 0.0\n",
      "Arrival Time: 107.98669631097401 Service Time: 0.4019804371201608 Priority: 0 Waiting Time: 0.0\n"
     ]
    }
   ],
   "source": [
    "\n",
    "print(\"Jobs:\")\n",
    "for job in jobsArray:\n",
    "    print(\"Arrival Time:\", job.arrival_time, \"Service Time:\", job.service_time, \"Priority:\", job.priority, \"Waiting Time:\", job.pre_waiting_time)\n"
   ]
  },
  {
   "cell_type": "markdown",
   "metadata": {},
   "source": [
    "## Average Service Time for simulation"
   ]
  },
  {
   "cell_type": "code",
   "execution_count": 36,
   "metadata": {},
   "outputs": [],
   "source": [
    "# totserviceTime = 0\n",
    "# for job in arrival_times_and_service_times_and_priority:\n",
    "#     totserviceTime += job[1]\n",
    "# avg_time = totserviceTime/n\n",
    "\n",
    "# print(avg_time)"
   ]
  }
 ],
 "metadata": {
  "kernelspec": {
   "display_name": "Python 3",
   "language": "python",
   "name": "python3"
  },
  "language_info": {
   "codemirror_mode": {
    "name": "ipython",
    "version": 3
   },
   "file_extension": ".py",
   "mimetype": "text/x-python",
   "name": "python",
   "nbconvert_exporter": "python",
   "pygments_lexer": "ipython3",
   "version": "3.11.7"
  }
 },
 "nbformat": 4,
 "nbformat_minor": 2
}
