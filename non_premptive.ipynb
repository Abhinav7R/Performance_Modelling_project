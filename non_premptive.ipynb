{
 "cells": [
  {
   "cell_type": "markdown",
   "metadata": {},
   "source": [
    "## Job Generation"
   ]
  },
  {
   "cell_type": "code",
   "execution_count": null,
   "metadata": {},
   "outputs": [],
   "source": [
    "import numpy as np\n",
    "import matplotlib.pyplot as plt\n",
    "import scipy"
   ]
  },
  {
   "cell_type": "code",
   "execution_count": null,
   "metadata": {},
   "outputs": [],
   "source": [
    "jobsArray = []\n",
    "\n",
    "class Job:\n",
    "    def __init__(self, arrival_time, service_time, priority):\n",
    "        self.priority = priority\n",
    "        self.arrival_time = arrival_time\n",
    "        self.service_time = service_time\n",
    "        self.waiting_time = 0\n",
    "        self.sojourn_time = 0\n",
    "        self.isJobDone = False\n",
    "        \n",
    "def generate_exponential_xi(n, lmbda):\n",
    "    y = np.random.uniform(0, 1, n)\n",
    "    x = [-np.log(1 - y[i]) / lmbda for i in range(len(y))]\n",
    "    return x\n",
    "\n",
    "def generate_si_sigma_xi(n):\n",
    "    n_sorted = sorted(n)\n",
    "    si_sigma_xi = []\n",
    "    for i in range(len(n_sorted)):\n",
    "        si_sigma_xi.append(sum(n_sorted[:i+1]))\n",
    "    return si_sigma_xi\n",
    "\n",
    "def generate_sizes(si_sigma_xi, mu):\n",
    "    sizes = generate_exponential_xi(len(si_sigma_xi), mu)\n",
    "    jobs = []\n",
    "    for i in range(len(si_sigma_xi)):\n",
    "        jobs.append(Job(si_sigma_xi[i], sizes[i], None))\n",
    "    return jobs\n",
    "\n",
    "def assign_priority(jobsArray, number_of_queues, average_service_time):\n",
    "    bin_size = 2 * average_service_time / number_of_queues\n",
    "    for job in jobsArray:\n",
    "        priority = int(job.service_time / bin_size)\n",
    "        if priority >= number_of_queues:\n",
    "            priority = number_of_queues - 1\n",
    "        job.priority = priority\n",
    "    return jobsArray\n",
    "\n",
    "def areJobsLeft(jobsArray):\n",
    "    for job in jobsArray:\n",
    "        if job.isJobDone == False:   \n",
    "            return True\n",
    "    return False\n",
    "\n",
    "def getHighestPriorityJob(jobsArray,global_clock):\n",
    "    index = -1\n",
    "    priority = 100000\n",
    "    for i, job in enumerate(jobsArray):\n",
    "        if job.priority <= priority and global_clock >= job.arrival_time and job.isJobDone == False:\n",
    "            priority = job.priority\n",
    "            index = i \n",
    "            \n",
    "    return index\n",
    "\n",
    "def getNextJobArrival(jobsArray):\n",
    "    index = -1\n",
    "    for i, job in enumerate(jobsArray):\n",
    "        if job.isJobDone == False:\n",
    "            return i \n",
    "            \n",
    "def simulate_queue(jobsArray,numJobs):\n",
    "    global_clock = 0\n",
    "    numJobsdone = 0\n",
    "    while numJobsdone != numJobs:\n",
    "        \n",
    "        highest_priority_job_index = getHighestPriorityJob(jobsArray,global_clock)\n",
    "        \n",
    "        if highest_priority_job_index == -1:\n",
    "            index =  getNextJobArrival(jobsArray)\n",
    "            global_clock = jobsArray[index].arrival_time\n",
    "            highest_priority_job_index = index\n",
    "\n",
    "        currJob = jobsArray[highest_priority_job_index]  \n",
    "        jobsArray[highest_priority_job_index].isJobDone = True \n",
    "        jobsArray[highest_priority_job_index].waiting_time = global_clock -  jobsArray[highest_priority_job_index].arrival_time\n",
    "        jobsArray[highest_priority_job_index].sojourn_time = jobsArray[highest_priority_job_index].waiting_time + currJob.service_time\n",
    "        global_clock += currJob.service_time  \n",
    "        numJobsdone += 1 \n"
   ]
  },
  {
   "cell_type": "markdown",
   "metadata": {},
   "source": [
    "## Queuing parameters"
   ]
  },
  {
   "cell_type": "code",
   "execution_count": null,
   "metadata": {},
   "outputs": [],
   "source": [
    "# number of jobs\n",
    "n = 50\n",
    "number_of_queues = 4\n",
    "lmbda = 0.1\n",
    "mu = 0.2\n",
    "\n",
    "xi = generate_exponential_xi(n, lmbda)\n",
    "si_sigma_xi = generate_si_sigma_xi(xi)\n",
    "\n",
    "jobsArray = generate_sizes(si_sigma_xi, mu)\n",
    "\n",
    "jobsArray = assign_priority(jobsArray, number_of_queues, 1/mu)\n",
    "    \n",
    "# Count number of jobs in each queue\n",
    "count = [0] * number_of_queues\n",
    "for job in jobsArray:\n",
    "    count[job.priority] += 1\n",
    "print(\"Counts per priority:\", count)\n",
    "\n",
    "# Simulate the queue with the given arrival times and sizes using sjf\n",
    "simulate_queue(jobsArray,n)\n"
   ]
  },
  {
   "cell_type": "code",
   "execution_count": null,
   "metadata": {},
   "outputs": [],
   "source": [
    "\n",
    "print(\"Jobs:\")\n",
    "for job in jobsArray:\n",
    "    print(\"Arrival Time:\", job.arrival_time, \"Service Time:\", job.service_time, \"Priority:\", job.priority, \"Waiting Time:\", job.waiting_time, \"Sojourn Time:\", job.sojourn_time)\n"
   ]
  },
  {
   "cell_type": "markdown",
   "metadata": {},
   "source": [
    "## Average Time for simulation"
   ]
  },
  {
   "cell_type": "code",
   "execution_count": null,
   "metadata": {},
   "outputs": [],
   "source": [
    "\n",
    "def getAverageServiceTime(jobsArray):\n",
    "    totserviceTime = 0\n",
    "    for job in jobsArray:\n",
    "        totserviceTime += job.service_time\n",
    "    avg_time = totserviceTime/len(jobsArray)\n",
    "    return avg_time    \n",
    "\n",
    "def getAverageWaitingTime(jobsArray):\n",
    "    totWaitingTime = 0\n",
    "    for job in jobsArray:\n",
    "        totWaitingTime += job.waiting_time\n",
    "    avg_time = totWaitingTime/len(jobsArray)\n",
    "    return avg_time  \n",
    "\n",
    "def getAverageSojournTime(jobsArray):\n",
    "    totSojournTime = 0\n",
    "    for job in jobsArray:\n",
    "        totSojournTime += job.sojourn_time\n",
    "    avg_time = totSojournTime/len(jobsArray)\n",
    "    return avg_time \n",
    "\n",
    "print(getAverageServiceTime(jobsArray))\n",
    "print(getAverageWaitingTime(jobsArray))\n",
    "print(getAverageSojournTime(jobsArray))\n"
   ]
  },
  {
   "cell_type": "markdown",
   "metadata": {},
   "source": [
    "## Waiting Times Vs Jobs "
   ]
  },
  {
   "cell_type": "code",
   "execution_count": null,
   "metadata": {},
   "outputs": [],
   "source": [
    "waitingTimesArray = []\n",
    "\n",
    "for i, job in enumerate(jobsArray):\n",
    "    waitingTimesArray.append((job.arrival_time,job.waiting_time,job.priority))\n",
    "    \n",
    "print(waitingTimesArray)\n",
    "\n",
    "priority_data = {}\n",
    "for arrival_time, waiting_time, priority in waitingTimesArray:\n",
    "    if priority not in priority_data:\n",
    "        priority_data[priority] = {'arrival_time': [], 'waiting_time': []}\n",
    "    priority_data[priority]['arrival_time'].append(arrival_time)\n",
    "    priority_data[priority]['waiting_time'].append(waiting_time)\n",
    "\n",
    "for priority in range(4):\n",
    "    if priority in priority_data:\n",
    "        data = priority_data[priority]\n",
    "        plt.plot(data['arrival_time'], data['waiting_time'], label=f'Priority {priority}')\n",
    "\n",
    "plt.xlabel('Job Arrival')\n",
    "plt.ylabel('Waiting Time')\n",
    "plt.title('Waiting Time vs Arrival')\n",
    "plt.legend()\n",
    "plt.show()"
   ]
  }
 ],
 "metadata": {
  "kernelspec": {
   "display_name": "Python 3",
   "language": "python",
   "name": "python3"
  },
  "language_info": {
   "codemirror_mode": {
    "name": "ipython",
    "version": 3
   },
   "file_extension": ".py",
   "mimetype": "text/x-python",
   "name": "python",
   "nbconvert_exporter": "python",
   "pygments_lexer": "ipython3",
   "version": "3.11.8"
  }
 },
 "nbformat": 4,
 "nbformat_minor": 2
}
