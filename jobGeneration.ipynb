{
 "cells": [
  {
   "cell_type": "markdown",
   "metadata": {},
   "source": [
    "## Job Generation"
   ]
  },
  {
   "cell_type": "code",
   "execution_count": 211,
   "metadata": {},
   "outputs": [],
   "source": [
    "import numpy as np\n",
    "import scipy"
   ]
  },
  {
   "cell_type": "code",
   "execution_count": 212,
   "metadata": {},
   "outputs": [],
   "source": [
    "jobsArray = []\n",
    "\n",
    "class Job:\n",
    "    def __init__(self, arrival_time, service_time, priority):\n",
    "        self.arrival_time = arrival_time\n",
    "        self.service_time = service_time\n",
    "        self.priority = priority\n",
    "        self.waiting_time = None\n",
    "        self.isJobDone = False\n",
    "        \n",
    "\n",
    "def generate_exponential_xi(n, lmbda):\n",
    "    y = np.random.uniform(0, 1, n)\n",
    "    x = [-np.log(1 - y[i]) / lmbda for i in range(len(y))]\n",
    "    return x\n",
    "\n",
    "def generate_si_sigma_xi(n):\n",
    "    n_sorted = sorted(n)\n",
    "    si_sigma_xi = []\n",
    "    for i in range(len(n_sorted)):\n",
    "        si_sigma_xi.append(sum(n_sorted[:i+1]))\n",
    "    return si_sigma_xi\n",
    "\n",
    "def generate_sizes(si_sigma_xi, mu):\n",
    "    sizes = generate_exponential_xi(len(si_sigma_xi), mu)\n",
    "    jobs = []\n",
    "    for i in range(len(si_sigma_xi)):\n",
    "        jobs.append(Job(si_sigma_xi[i], sizes[i], None))\n",
    "    return jobs\n",
    "\n",
    "def assign_priority(jobsArray, number_of_queues, average_service_time):\n",
    "    bin_size = 2 * average_service_time / number_of_queues\n",
    "    for job in jobsArray:\n",
    "        priority = int(job.service_time / bin_size)\n",
    "        if priority >= number_of_queues:\n",
    "            priority = number_of_queues - 1\n",
    "        job.priority = priority\n",
    "    return jobsArray\n",
    "\n",
    "def areJobsLeft(jobsArray):\n",
    "    for job in jobsArray:\n",
    "        if job.isJobDone == False:   \n",
    "            return True\n",
    "    return False\n",
    "\n",
    "def getHighestPriorityJob(jobsArray,global_clock):\n",
    "    index = -1\n",
    "    priority = 100000\n",
    "    for i, job in enumerate(jobsArray):\n",
    "        if job.priority <= priority and global_clock >= job.arrival_time and job.isJobDone == False:\n",
    "            priority = job.priority\n",
    "            index = i \n",
    "            \n",
    "    return index\n",
    "\n",
    "def getNextJobArrival(jobsArray):\n",
    "    index = -1\n",
    "    for i, job in enumerate(jobsArray):\n",
    "        if job.isJobDone == False:\n",
    "            return i \n",
    "            \n",
    "def simulate_queue(jobsArray,numJobs):\n",
    "    global_clock = 0\n",
    "    numJobsdone = 0\n",
    "    while numJobsdone != numJobs:\n",
    "        \n",
    "        highest_priority_job_index = getHighestPriorityJob(jobsArray,global_clock)\n",
    "        \n",
    "        if highest_priority_job_index == -1:\n",
    "            index =  getNextJobArrival(jobsArray)\n",
    "            global_clock = jobsArray[index].arrival_time\n",
    "            highest_priority_job_index = index\n",
    "\n",
    "        currJob = jobsArray[highest_priority_job_index]  \n",
    "        jobsArray[highest_priority_job_index].waiting_time = global_clock -  jobsArray[highest_priority_job_index].arrival_time\n",
    "        global_clock += currJob.service_time  \n",
    "        jobsArray[highest_priority_job_index].isJobDone = True \n",
    "        numJobsdone += 1 \n"
   ]
  },
  {
   "cell_type": "markdown",
   "metadata": {},
   "source": [
    "## Queuing parameters"
   ]
  },
  {
   "cell_type": "code",
   "execution_count": 213,
   "metadata": {},
   "outputs": [
    {
     "name": "stdout",
     "output_type": "stream",
     "text": [
      "Counts per priority: [6, 0, 2, 2]\n"
     ]
    }
   ],
   "source": [
    "# number of jobs\n",
    "n = 10\n",
    "number_of_queues = 4\n",
    "lmbda = 0.1\n",
    "mu = 0.2\n",
    "\n",
    "xi = generate_exponential_xi(n, lmbda)\n",
    "si_sigma_xi = generate_si_sigma_xi(xi)\n",
    "\n",
    "jobsArray = generate_sizes(si_sigma_xi, mu)\n",
    "\n",
    "jobsArray = assign_priority(jobsArray, number_of_queues, 1/mu)\n",
    "    \n",
    "# Count number of jobs in each queue\n",
    "count = [0] * number_of_queues\n",
    "for job in jobsArray:\n",
    "    count[job.priority] += 1\n",
    "print(\"Counts per priority:\", count)\n",
    "\n",
    "# Simulate the queue with the given arrival times and sizes using sjf\n",
    "simulate_queue(jobsArray,n)\n"
   ]
  },
  {
   "cell_type": "code",
   "execution_count": 220,
   "metadata": {},
   "outputs": [
    {
     "name": "stdout",
     "output_type": "stream",
     "text": [
      "Jobs:\n",
      "Arrival Time: 0.08376171903778669 Service Time: 1.7901931927928787 Priority: 0 Waiting Time: 0.0\n",
      "Arrival Time: 0.5627599677088322 Service Time: 5.224870013117762 Priority: 2 Waiting Time: 3.288288293250411\n",
      "Arrival Time: 1.3311155201353104 Service Time: 0.9160796938192324 Priority: 0 Waiting Time: 0.5428393916953549\n",
      "Arrival Time: 2.462128986177172 Service Time: 1.0610136553093452 Priority: 0 Waiting Time: 0.3279056194727259\n",
      "Arrival Time: 5.90584221124443 Service Time: 26.424083337324905 Priority: 3 Waiting Time: 3.1700760628325746\n",
      "Arrival Time: 10.671361821130454 Service Time: 6.704914832656403 Priority: 2 Waiting Time: 27.22525935768728\n",
      "Arrival Time: 16.17580066275 Service Time: 12.02344287191169 Priority: 3 Waiting Time: 30.577196121515854\n",
      "Arrival Time: 22.48068549273787 Service Time: 0.199772375899788 Priority: 0 Waiting Time: 15.216163310180072\n",
      "Arrival Time: 31.674998460415758 Service Time: 2.1968471915160257 Priority: 0 Waiting Time: 3.8250031509861557\n",
      "Arrival Time: 41.44466729677751 Service Time: 2.151460772791717 Priority: 0 Waiting Time: 3.1568687146966283\n"
     ]
    }
   ],
   "source": [
    "\n",
    "print(\"Jobs:\")\n",
    "for job in jobsArray:\n",
    "    print(\"Arrival Time:\", job.arrival_time, \"Service Time:\", job.service_time, \"Priority:\", job.priority, \"Waiting Time:\", job.waiting_time)\n"
   ]
  },
  {
   "cell_type": "markdown",
   "metadata": {},
   "source": [
    "## Average Service Time for simulation"
   ]
  },
  {
   "cell_type": "code",
   "execution_count": 215,
   "metadata": {},
   "outputs": [],
   "source": [
    "# totserviceTime = 0\n",
    "# for job in arrival_times_and_service_times_and_priority:\n",
    "#     totserviceTime += job[1]\n",
    "# avg_time = totserviceTime/n\n",
    "\n",
    "# print(avg_time)"
   ]
  }
 ],
 "metadata": {
  "kernelspec": {
   "display_name": "Python 3",
   "language": "python",
   "name": "python3"
  },
  "language_info": {
   "codemirror_mode": {
    "name": "ipython",
    "version": 3
   },
   "file_extension": ".py",
   "mimetype": "text/x-python",
   "name": "python",
   "nbconvert_exporter": "python",
   "pygments_lexer": "ipython3",
   "version": "3.11.8"
  }
 },
 "nbformat": 4,
 "nbformat_minor": 2
}
