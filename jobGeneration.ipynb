{
 "cells": [
  {
   "cell_type": "markdown",
   "metadata": {},
   "source": [
    "## Job Generation"
   ]
  },
  {
   "cell_type": "code",
   "execution_count": 139,
   "metadata": {},
   "outputs": [],
   "source": [
    "import numpy as np\n",
    "import scipy"
   ]
  },
  {
   "cell_type": "code",
   "execution_count": 140,
   "metadata": {},
   "outputs": [],
   "source": [
    "def generate_exponential_xi(n, lmbda):\n",
    "    y = np.random.uniform(0, 1, n)\n",
    "    x = [-np.log(1 - y[i]) / lmbda for i in range(len(y))]\n",
    "    return x\n",
    "\n",
    "def generate_si_sigma_xi(n):\n",
    "    n_sorted = sorted(n)\n",
    "    si_signma_xi = []\n",
    "    for i in range(len(n_sorted)):\n",
    "        si_signma_xi.append(sum(n_sorted[:i+1]))\n",
    "    return si_signma_xi\n",
    "\n",
    "def generate_sizes(si_sigma_xi, mu):\n",
    "    sizes = generate_exponential_xi(len(si_sigma_xi), mu)\n",
    "    return [(si_sigma_xi[i], sizes[i]) for i in range(len(si_sigma_xi))]\n",
    "\n",
    "def assign_priority(arrival_times_and_sizes, number_of_queues, average_service_time):\n",
    "    bin_size = 2 * average_service_time / number_of_queues\n",
    "    arrival_times_and_service_times_and_priority = []\n",
    "    for i in range(len(arrival_times_and_sizes)):\n",
    "        priority = int(arrival_times_and_sizes[i][1] / bin_size)\n",
    "        if priority >= number_of_queues:\n",
    "            priority = number_of_queues - 1\n",
    "        arrival_times_and_service_times_and_priority.append((arrival_times_and_sizes[i][0], arrival_times_and_sizes[i][1], priority))\n",
    "    return arrival_times_and_service_times_and_priority\n"
   ]
  },
  {
   "cell_type": "markdown",
   "metadata": {},
   "source": [
    "## Queuing parameters"
   ]
  },
  {
   "cell_type": "code",
   "execution_count": 141,
   "metadata": {},
   "outputs": [],
   "source": [
    "#number of jobs\n",
    "n = 1000\n",
    "number_of_queues = 4\n",
    "arrivalRate = 10\n",
    "serviceRate = 0.2"
   ]
  },
  {
   "cell_type": "code",
   "execution_count": 142,
   "metadata": {},
   "outputs": [
    {
     "name": "stdout",
     "output_type": "stream",
     "text": [
      "[390, 223, 154, 233]\n"
     ]
    }
   ],
   "source": [
    "#basically the arrival times of the jobs in the queue\n",
    "xi= generate_exponential_xi(n, arrivalRate)\n",
    "\n",
    "#append random sizes to all the jobs in the queue\n",
    "si_sigma_xi = generate_si_sigma_xi(xi)\n",
    "\n",
    "#sizes are between 1 and 10\n",
    "arrival_times_and_sizes = generate_sizes(si_sigma_xi, serviceRate)\n",
    "\n",
    "#Note service time is same as sizes\n",
    "arrival_times_and_service_times_and_priority = assign_priority(arrival_times_and_sizes, number_of_queues, 1/serviceRate)\n",
    "\n",
    "#count number of jobs in each queue\n",
    "count = [0] * number_of_queues\n",
    "for i in range(len(arrival_times_and_service_times_and_priority)):\n",
    "    count[arrival_times_and_service_times_and_priority[i][2]] += 1\n",
    "print(count)"
   ]
  },
  {
   "cell_type": "markdown",
   "metadata": {},
   "source": [
    "## Average Service Time for simulation"
   ]
  },
  {
   "cell_type": "code",
   "execution_count": 143,
   "metadata": {},
   "outputs": [
    {
     "name": "stdout",
     "output_type": "stream",
     "text": [
      "5.239354337542364\n"
     ]
    }
   ],
   "source": [
    "totserviceTime = 0\n",
    "for job in arrival_times_and_service_times_and_priority:\n",
    "    totserviceTime += job[1]\n",
    "avg_time = totserviceTime/n\n",
    "\n",
    "print(avg_time)"
   ]
  }
 ],
 "metadata": {
  "kernelspec": {
   "display_name": "Python 3",
   "language": "python",
   "name": "python3"
  },
  "language_info": {
   "codemirror_mode": {
    "name": "ipython",
    "version": 3
   },
   "file_extension": ".py",
   "mimetype": "text/x-python",
   "name": "python",
   "nbconvert_exporter": "python",
   "pygments_lexer": "ipython3",
   "version": "3.11.8"
  }
 },
 "nbformat": 4,
 "nbformat_minor": 2
}
